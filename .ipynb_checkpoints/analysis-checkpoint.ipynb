{
 "cells": [
  {
   "cell_type": "markdown",
   "source": [
    "# RETO DE ANALÍTICA E INTELIGENCIA ARTIFICIAL PARA BIOCIENCIAS\n",
    "Este notebook tiene como objetivo explorar y analizar el conjunto de datos de imágenes, aplicar técnicas de análisis descriptivo e inferencial, y preparar las variables para el entrenamiento de modelos predictivos.\n",
    "\n",
    "- Autor: Valery Castañeda\n"
   ],
   "metadata": {
    "collapsed": false
   },
   "id": "890a23931f313ea9"
  },
  {
   "cell_type": "markdown",
   "source": [
    "## Librerias"
   ],
   "metadata": {
    "collapsed": false
   },
   "id": "9f4682b593b9eb7e"
  },
  {
   "cell_type": "code",
   "execution_count": null,
   "outputs": [],
   "source": [
    "import os\n",
    "import matplotlib.pyplot as plt\n",
    "import random\n",
    "import tensorflow as tf"
   ],
   "metadata": {
    "collapsed": false,
    "is_executing": true,
    "ExecuteTime": {
     "start_time": "2025-06-04T01:57:52.269733Z"
    }
   },
   "id": "963be25a65c04125"
  },
  {
   "cell_type": "markdown",
   "source": [],
   "metadata": {
    "collapsed": false
   },
   "id": "dad026d9b4f848dc"
  },
  {
   "cell_type": "code",
   "execution_count": 1,
   "outputs": [
    {
     "ename": "NameError",
     "evalue": "name 'tf' is not defined",
     "output_type": "error",
     "traceback": [
      "\u001B[31m---------------------------------------------------------------------------\u001B[39m",
      "\u001B[31mNameError\u001B[39m                                 Traceback (most recent call last)",
      "\u001B[36mCell\u001B[39m\u001B[36m \u001B[39m\u001B[32mIn[1]\u001B[39m\u001B[32m, line 1\u001B[39m\n\u001B[32m----> \u001B[39m\u001B[32m1\u001B[39m dataset = \u001B[43mtf\u001B[49m.keras.utils.image_dataset_from_directory(\n\u001B[32m      2\u001B[39m     directory=\u001B[33m'\u001B[39m\u001B[33mdata/archive/Brain_Cancer raw MRI data/Brain_Cancer\u001B[39m\u001B[33m'\u001B[39m,\n\u001B[32m      3\u001B[39m     labels=\u001B[33m'\u001B[39m\u001B[33minferred\u001B[39m\u001B[33m'\u001B[39m,               \u001B[38;5;66;03m# Detecta etiquetas por nombre de carpeta\u001B[39;00m\n\u001B[32m      4\u001B[39m     label_mode=\u001B[33m'\u001B[39m\u001B[33mcategorical\u001B[39m\u001B[33m'\u001B[39m,                \u001B[38;5;66;03m# 'int', 'categorical', o 'binary'\u001B[39;00m\n\u001B[32m      5\u001B[39m     image_size=(\u001B[32m128\u001B[39m, \u001B[32m128\u001B[39m),           \u001B[38;5;66;03m# Redimensiona imágenes automáticamente\u001B[39;00m\n\u001B[32m      6\u001B[39m     batch_size=\u001B[32m32\u001B[39m,\n\u001B[32m      7\u001B[39m     shuffle=\u001B[38;5;28;01mTrue\u001B[39;00m\n\u001B[32m      8\u001B[39m )\n",
      "\u001B[31mNameError\u001B[39m: name 'tf' is not defined"
     ]
    }
   ],
   "source": [
    "dataset = tf.keras.utils.image_dataset_from_directory(\n",
    "    directory='data/archive/Brain_Cancer raw MRI data/Brain_Cancer',\n",
    "    labels='inferred',               # Detecta etiquetas por nombre de carpeta\n",
    "    label_mode='categorical',                # 'int', 'categorical', o 'binary'\n",
    "    image_size=(128, 128),           # Redimensiona imágenes automáticamente\n",
    "    batch_size=32,\n",
    "    shuffle=True\n",
    ")"
   ],
   "metadata": {
    "collapsed": false,
    "ExecuteTime": {
     "end_time": "2025-06-04T01:57:43.117231Z",
     "start_time": "2025-06-04T01:57:42.952836Z"
    }
   },
   "id": "b6dda54822f08904"
  },
  {
   "cell_type": "code",
   "execution_count": null,
   "outputs": [],
   "source": [
    "class_names = []\n",
    "image_counts = []\n",
    "\n",
    "path = 'data/archive/Brain_Cancer raw MRI data/Brain_Cancer'\n",
    "\n",
    "for class_folder in os.listdir(path):\n",
    "    class_path = os.path.join(path, class_folder)\n",
    "    if os.path.isdir(class_path):\n",
    "        class_names.append(class_folder)\n",
    "        image_counts.append(len(os.listdir(class_path)))\n",
    "\n",
    "plt.figure(figsize=(6, 4))\n",
    "bars = plt.bar(class_names, image_counts, color='mediumslateblue')\n",
    "plt.title(\"Image Count per Class\")\n",
    "plt.xlabel(\"Class\")\n",
    "plt.ylabel(\"Number of Images\")\n",
    "plt.grid(axis='y', linestyle='--', alpha=0.5)\n",
    "plt.tight_layout()\n",
    "\n",
    "# Añadir número encima de cada barra\n",
    "for bar in bars:\n",
    "    height = bar.get_height()\n",
    "    plt.text(bar.get_x() + bar.get_width()/2, height + 2,  # Ajusta +2 si es necesario\n",
    "             str(height), ha='center', va='bottom', fontsize=10)\n",
    "plt.show()"
   ],
   "metadata": {
    "collapsed": false
   },
   "id": "1b38cbf1f6fdaf3e"
  },
  {
   "cell_type": "code",
   "execution_count": null,
   "outputs": [],
   "source": [
    "random_indices = random.sample(range(len(dataset)), 10)\n",
    "\n",
    "plt.figure(figsize=(15, 6))\n",
    "for i, idx in enumerate(random_indices):\n",
    "    img, label = dataset[idx] \n",
    "    img = img.permute(1, 2, 0)\n",
    "    img = img.numpy()\n",
    "    \n",
    "    plt.subplot(2, 5, i + 1)\n",
    "    plt.imshow(img)\n",
    "    plt.title(dataset.classes[label]) \n",
    "    plt.axis('off')"
   ],
   "metadata": {
    "collapsed": false
   },
   "id": "5121b7a2c7c3cd7e"
  }
 ],
 "metadata": {
  "kernelspec": {
   "display_name": "Python 3",
   "language": "python",
   "name": "python3"
  },
  "language_info": {
   "codemirror_mode": {
    "name": "ipython",
    "version": 2
   },
   "file_extension": ".py",
   "mimetype": "text/x-python",
   "name": "python",
   "nbconvert_exporter": "python",
   "pygments_lexer": "ipython2",
   "version": "2.7.6"
  }
 },
 "nbformat": 4,
 "nbformat_minor": 5
}
