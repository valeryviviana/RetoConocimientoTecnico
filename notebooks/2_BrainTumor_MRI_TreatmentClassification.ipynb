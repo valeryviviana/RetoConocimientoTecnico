{
 "cells": [
  {
   "cell_type": "markdown",
   "id": "318ef0e65a8d2e2e",
   "metadata": {
    "collapsed": false
   },
   "source": [
    "# RETO DE ANALÍTICA E INTELIGENCIA ARTIFICIAL PARA BIOCIENCIAS\n",
    "Reto 2:\tClasificación del tratamiento del paciente: Combinando los datos de las imágenes médicas y de historia clínica, genere un modelo que permita clasificar el tratamiento para el paciente. \n",
    "Autor: Valery Castañeda"
   ]
  },
  {
   "cell_type": "markdown",
   "id": "b51858ac5cc29c10",
   "metadata": {
    "collapsed": false
   },
   "source": [
    "## Librerias"
   ]
  },
  {
   "cell_type": "code",
   "execution_count": 53,
   "id": "initial_id",
   "metadata": {
    "ExecuteTime": {
     "end_time": "2025-06-06T01:14:39.462878Z",
     "start_time": "2025-06-06T01:14:39.030147Z"
    },
    "collapsed": false
   },
   "outputs": [],
   "source": [
    "import pandas as pd\n",
    "import seaborn as sns\n",
    "import matplotlib.pyplot as plt\n",
    "from scipy.stats import ttest_ind\n",
    "from scipy.stats import chi2_contingency\n",
    "import re\n",
    "from sklearn.model_selection import train_test_split\n",
    "from sklearn.feature_extraction.text import TfidfVectorizer, ENGLISH_STOP_WORDS\n",
    "from sklearn.preprocessing import StandardScaler\n",
    "from sklearn.naive_bayes import MultinomialNB\n",
    "from sklearn.metrics import classification_report\n",
    "from scipy.sparse import hstack\n",
    "from sklearn.preprocessing import MinMaxScaler\n",
    "from sklearn.ensemble import RandomForestClassifier\n",
    "import joblib\n",
    "from pathlib import Path\n",
    "\n",
    "\n"
   ]
  },
  {
   "cell_type": "markdown",
   "id": "ee400f3a121402e2",
   "metadata": {
    "collapsed": false
   },
   "source": [
    "## Carga de datos"
   ]
  },
  {
   "cell_type": "code",
   "execution_count": 71,
   "id": "727ec1d53a66534c",
   "metadata": {
    "ExecuteTime": {
     "end_time": "2025-06-06T01:15:06.243657Z",
     "start_time": "2025-06-06T01:15:05.973993Z"
    },
    "collapsed": false
   },
   "outputs": [
    {
     "data": {
      "text/html": [
       "<div>\n",
       "<style scoped>\n",
       "    .dataframe tbody tr th:only-of-type {\n",
       "        vertical-align: middle;\n",
       "    }\n",
       "\n",
       "    .dataframe tbody tr th {\n",
       "        vertical-align: top;\n",
       "    }\n",
       "\n",
       "    .dataframe thead th {\n",
       "        text-align: right;\n",
       "    }\n",
       "</style>\n",
       "<table border=\"1\" class=\"dataframe\">\n",
       "  <thead>\n",
       "    <tr style=\"text-align: right;\">\n",
       "      <th></th>\n",
       "      <th>Case ID</th>\n",
       "      <th>Condition</th>\n",
       "      <th>Age</th>\n",
       "      <th>Sex</th>\n",
       "      <th>Clinical Note</th>\n",
       "      <th>Treatment</th>\n",
       "    </tr>\n",
       "  </thead>\n",
       "  <tbody>\n",
       "    <tr>\n",
       "      <th>0</th>\n",
       "      <td>brain_glioma_0001</td>\n",
       "      <td>Brain Glioma</td>\n",
       "      <td>74</td>\n",
       "      <td>F</td>\n",
       "      <td>Patient is experiencing memory lapses and spee...</td>\n",
       "      <td>surgery</td>\n",
       "    </tr>\n",
       "    <tr>\n",
       "      <th>1</th>\n",
       "      <td>brain_glioma_0002</td>\n",
       "      <td>Brain Glioma</td>\n",
       "      <td>66</td>\n",
       "      <td>F</td>\n",
       "      <td>Patient is experiencing visual disturbances an...</td>\n",
       "      <td>chemotherapy</td>\n",
       "    </tr>\n",
       "    <tr>\n",
       "      <th>2</th>\n",
       "      <td>brain_glioma_0003</td>\n",
       "      <td>Brain Glioma</td>\n",
       "      <td>62</td>\n",
       "      <td>F</td>\n",
       "      <td>Patient is experiencing memory lapses and dizz...</td>\n",
       "      <td>surgery</td>\n",
       "    </tr>\n",
       "    <tr>\n",
       "      <th>3</th>\n",
       "      <td>brain_glioma_0004</td>\n",
       "      <td>Brain Glioma</td>\n",
       "      <td>24</td>\n",
       "      <td>M</td>\n",
       "      <td>Patient is experiencing memory lapses and pers...</td>\n",
       "      <td>surgery</td>\n",
       "    </tr>\n",
       "    <tr>\n",
       "      <th>4</th>\n",
       "      <td>brain_glioma_0005</td>\n",
       "      <td>Brain Glioma</td>\n",
       "      <td>69</td>\n",
       "      <td>M</td>\n",
       "      <td>Patient is experiencing dizziness and frequent...</td>\n",
       "      <td>surgery</td>\n",
       "    </tr>\n",
       "  </tbody>\n",
       "</table>\n",
       "</div>"
      ],
      "text/plain": [
       "             Case ID     Condition  Age Sex  \\\n",
       "0  brain_glioma_0001  Brain Glioma   74   F   \n",
       "1  brain_glioma_0002  Brain Glioma   66   F   \n",
       "2  brain_glioma_0003  Brain Glioma   62   F   \n",
       "3  brain_glioma_0004  Brain Glioma   24   M   \n",
       "4  brain_glioma_0005  Brain Glioma   69   M   \n",
       "\n",
       "                                       Clinical Note     Treatment  \n",
       "0  Patient is experiencing memory lapses and spee...       surgery  \n",
       "1  Patient is experiencing visual disturbances an...  chemotherapy  \n",
       "2  Patient is experiencing memory lapses and dizz...       surgery  \n",
       "3  Patient is experiencing memory lapses and pers...       surgery  \n",
       "4  Patient is experiencing dizziness and frequent...       surgery  "
      ]
     },
     "execution_count": 71,
     "metadata": {},
     "output_type": "execute_result"
    }
   ],
   "source": [
    "df = pd.read_csv('data/brain_conditions_detailed_dataset.csv',  sep=';')\n",
    "df.head()"
   ]
  },
  {
   "cell_type": "markdown",
   "id": "78e0f2a246e0adee",
   "metadata": {
    "collapsed": false
   },
   "source": [
    "## Análisis exploratorio"
   ]
  },
  {
   "cell_type": "code",
   "execution_count": 55,
   "id": "a833dde8cec93cd7",
   "metadata": {
    "ExecuteTime": {
     "end_time": "2025-06-06T01:14:39.823050Z",
     "start_time": "2025-06-06T01:14:39.343406Z"
    },
    "collapsed": false
   },
   "outputs": [
    {
     "name": "stdout",
     "output_type": "stream",
     "text": [
      "count    6056.000000\n",
      "mean       51.764531\n",
      "std        19.619781\n",
      "min        18.000000\n",
      "25%        35.000000\n",
      "50%        52.000000\n",
      "75%        69.000000\n",
      "max        85.000000\n",
      "Name: Age, dtype: float64\n",
      "Sex\n",
      "F    3079\n",
      "M    2977\n",
      "Name: count, dtype: int64\n",
      "Treatment\n",
      "radiation therapy    1895\n",
      "surgery              1848\n",
      "chemotherapy         1174\n",
      "close monitoring     1139\n",
      "Name: count, dtype: int64\n"
     ]
    }
   ],
   "source": [
    "# Estadísticas generales\n",
    "print(df['Age'].describe())\n",
    "print(df['Sex'].value_counts())\n",
    "print(df['Treatment'].value_counts())"
   ]
  },
  {
   "cell_type": "code",
   "execution_count": 56,
   "id": "4445d248fd86871b",
   "metadata": {
    "ExecuteTime": {
     "end_time": "2025-06-06T01:14:40.055274Z",
     "start_time": "2025-06-06T01:14:39.446366Z"
    },
    "collapsed": false
   },
   "outputs": [
    {
     "data": {
      "text/plain": [
       "Text(0.5, 1.0, 'Distribución de edad')"
      ]
     },
     "execution_count": 56,
     "metadata": {},
     "output_type": "execute_result"
    },
    {
     "data": {
      "image/png": "[encoded data removed]",
      "text/plain": [
       "<Figure size 640x480 with 1 Axes>"
      ]
     },
     "metadata": {},
     "output_type": "display_data"
    }
   ],
   "source": [
    "sns.histplot(df['Age'], kde=True)\n",
    "plt.title('Distribución de edad')"
   ]
  },
  {
   "cell_type": "code",
   "execution_count": 57,
   "id": "57cabd58c9a3abc0",
   "metadata": {
    "ExecuteTime": {
     "end_time": "2025-06-06T01:14:40.055777Z",
     "start_time": "2025-06-06T01:14:39.762426Z"
    },
    "collapsed": false
   },
   "outputs": [
    {
     "name": "stdout",
     "output_type": "stream",
     "text": [
      "Edad mínima: 18, máxima: 85\n"
     ]
    }
   ],
   "source": [
    "print(f\"Edad mínima: {df['Age'].min()}, máxima: {df['Age'].max()}\")"
   ]
  },
  {
   "cell_type": "markdown",
   "id": "e8ea7c1993a503b9",
   "metadata": {
    "collapsed": false
   },
   "source": [
    "## Análisis descriptivo"
   ]
  },
  {
   "cell_type": "code",
   "execution_count": 58,
   "id": "4b1da9283f9c9fde",
   "metadata": {
    "ExecuteTime": {
     "end_time": "2025-06-06T01:14:40.283031Z",
     "start_time": "2025-06-06T01:14:39.767961Z"
    },
    "collapsed": false
   },
   "outputs": [
    {
     "data": {
      "text/plain": [
       "<Axes: xlabel='Age', ylabel='Count'>"
      ]
     },
     "execution_count": 58,
     "metadata": {},
     "output_type": "execute_result"
    },
    {
     "data": {
      "image/png": "[encoded data removed]",
      "text/plain": [
       "<Figure size 640x480 with 1 Axes>"
      ]
     },
     "metadata": {},
     "output_type": "display_data"
    }
   ],
   "source": [
    "sns.histplot(df['Age'], kde=True)\n",
    "sns.countplot(data=df, x='Sex', hue='Treatment')"
   ]
  },
  {
   "cell_type": "code",
   "execution_count": 59,
   "id": "ef961ab99c68006a",
   "metadata": {
    "ExecuteTime": {
     "end_time": "2025-06-06T01:14:40.641735Z",
     "start_time": "2025-06-06T01:14:40.003774Z"
    },
    "collapsed": false
   },
   "outputs": [
    {
     "data": {
      "text/plain": [
       "<Axes: xlabel='Treatment', ylabel='Age'>"
      ]
     },
     "execution_count": 59,
     "metadata": {},
     "output_type": "execute_result"
    },
    {
     "data": {
      "image/png": "[encoded data removed]",
      "text/plain": [
       "<Figure size 640x480 with 1 Axes>"
      ]
     },
     "metadata": {},
     "output_type": "display_data"
    }
   ],
   "source": [
    "sns.boxplot(data=df, x='Treatment', y='Age')"
   ]
  },
  {
   "cell_type": "code",
   "execution_count": 60,
   "id": "9e3b0bc4e2e889e3",
   "metadata": {
    "ExecuteTime": {
     "end_time": "2025-06-06T01:14:40.643474Z",
     "start_time": "2025-06-06T01:14:40.130271Z"
    },
    "collapsed": false
   },
   "outputs": [
    {
     "data": {
      "text/html": [
       "<div>\n",
       "<style scoped>\n",
       "    .dataframe tbody tr th:only-of-type {\n",
       "        vertical-align: middle;\n",
       "    }\n",
       "\n",
       "    .dataframe tbody tr th {\n",
       "        vertical-align: top;\n",
       "    }\n",
       "\n",
       "    .dataframe thead th {\n",
       "        text-align: right;\n",
       "    }\n",
       "</style>\n",
       "<table border=\"1\" class=\"dataframe\">\n",
       "  <thead>\n",
       "    <tr style=\"text-align: right;\">\n",
       "      <th>Treatment</th>\n",
       "      <th>chemotherapy</th>\n",
       "      <th>close monitoring</th>\n",
       "      <th>radiation therapy</th>\n",
       "      <th>surgery</th>\n",
       "    </tr>\n",
       "    <tr>\n",
       "      <th>Sex</th>\n",
       "      <th></th>\n",
       "      <th></th>\n",
       "      <th></th>\n",
       "      <th></th>\n",
       "    </tr>\n",
       "  </thead>\n",
       "  <tbody>\n",
       "    <tr>\n",
       "      <th>F</th>\n",
       "      <td>0.190646</td>\n",
       "      <td>0.191621</td>\n",
       "      <td>0.319909</td>\n",
       "      <td>0.297824</td>\n",
       "    </tr>\n",
       "    <tr>\n",
       "      <th>M</th>\n",
       "      <td>0.197178</td>\n",
       "      <td>0.184414</td>\n",
       "      <td>0.305677</td>\n",
       "      <td>0.312731</td>\n",
       "    </tr>\n",
       "  </tbody>\n",
       "</table>\n",
       "</div>"
      ],
      "text/plain": [
       "Treatment  chemotherapy  close monitoring  radiation therapy   surgery\n",
       "Sex                                                                   \n",
       "F              0.190646          0.191621           0.319909  0.297824\n",
       "M              0.197178          0.184414           0.305677  0.312731"
      ]
     },
     "execution_count": 60,
     "metadata": {},
     "output_type": "execute_result"
    }
   ],
   "source": [
    "pd.crosstab(df['Sex'], df['Treatment'], normalize='index')"
   ]
  },
  {
   "cell_type": "markdown",
   "id": "ec4424d6d6521381",
   "metadata": {
    "collapsed": false
   },
   "source": [
    "## Análisis inferencial"
   ]
  },
  {
   "cell_type": "markdown",
   "id": "21cbde519aea4dcb",
   "metadata": {
    "collapsed": false
   },
   "source": [
    "Hipótesis:\n",
    "\n",
    "H₀ (nula): No hay diferencia en la edad media entre tratamientos.\n",
    "H₁ (alternativa): Hay una diferencia en la edad media entre tratamientos.\n",
    "\n",
    "Si p < 0.05: hay evidencia para rechazar H₀ → diferencia significativa.\n",
    "Si p ≥ 0.05: no hay suficiente evidencia para rechazar H₀."
   ]
  },
  {
   "cell_type": "code",
   "execution_count": 61,
   "id": "8c4134a0f52c392d",
   "metadata": {
    "ExecuteTime": {
     "end_time": "2025-06-06T01:14:40.895691Z",
     "start_time": "2025-06-06T01:14:40.152992Z"
    },
    "collapsed": false
   },
   "outputs": [
    {
     "name": "stdout",
     "output_type": "stream",
     "text": [
      "T-statistic: 0.333, P-value: 0.739\n"
     ]
    }
   ],
   "source": [
    "grupo_surgery = df[df['Treatment'] == 'surgery']['Age']\n",
    "grupo_chemo = df[df['Treatment'] == 'chemotherapy']['Age']\n",
    "\n",
    "t_stat, p_value = ttest_ind(grupo_surgery, grupo_chemo, equal_var=False)\n",
    "\n",
    "print(f\"T-statistic: {t_stat:.3f}, P-value: {p_value:.3f}\")\n"
   ]
  },
  {
   "cell_type": "code",
   "execution_count": 62,
   "id": "cab69b02df00eceb",
   "metadata": {
    "ExecuteTime": {
     "end_time": "2025-06-06T01:14:40.896733Z",
     "start_time": "2025-06-06T01:14:40.181904Z"
    },
    "collapsed": false
   },
   "outputs": [
    {
     "name": "stdout",
     "output_type": "stream",
     "text": [
      "Chi²: 2.833, p-valor: 0.418\n"
     ]
    }
   ],
   "source": [
    "tabla = pd.crosstab(df['Sex'], df['Treatment'])\n",
    "chi2, p, dof, expected = chi2_contingency(tabla)\n",
    "\n",
    "print(f\"Chi²: {chi2:.3f}, p-valor: {p:.3f}\")\n"
   ]
  },
  {
   "cell_type": "markdown",
   "source": [
    "## Preprocesamiento de texto"
   ],
   "metadata": {
    "collapsed": false
   },
   "id": "b5abbb3bfd275a15"
  },
  {
   "cell_type": "code",
   "execution_count": 63,
   "id": "8f0ff8c50ced7c57",
   "metadata": {
    "ExecuteTime": {
     "end_time": "2025-06-06T01:14:40.897605Z",
     "start_time": "2025-06-06T01:14:40.201219Z"
    },
    "collapsed": false
   },
   "outputs": [],
   "source": [
    "def clean_text(text):\n",
    "    text = text.lower()\n",
    "    text = re.sub(r'[^a-z\\s]', '', text)  # solo letras\n",
    "    tokens = text.split()  # tokenización básica\n",
    "    tokens = [t for t in tokens if t not in ENGLISH_STOP_WORDS]  # stopwords\n",
    "    return ' '.join(tokens)"
   ]
  },
  {
   "cell_type": "code",
   "execution_count": 64,
   "id": "bf71ce98503af3a3",
   "metadata": {
    "ExecuteTime": {
     "end_time": "2025-06-06T01:14:40.898465Z",
     "start_time": "2025-06-06T01:14:40.231765Z"
    },
    "collapsed": false
   },
   "outputs": [],
   "source": [
    "df['clean_note'] = df['Clinical Note'].apply(clean_text)"
   ]
  },
  {
   "cell_type": "code",
   "execution_count": 65,
   "id": "a584c33b7f7fef4e",
   "metadata": {
    "ExecuteTime": {
     "end_time": "2025-06-06T01:14:41.046930Z",
     "start_time": "2025-06-06T01:14:40.284698Z"
    },
    "collapsed": false
   },
   "outputs": [],
   "source": [
    "df['Sex'] = df['Sex'].map({'F': 0, 'M': 1})\n",
    "scaler = MinMaxScaler()\n",
    "df['Age_scaled'] = scaler.fit_transform(df[['Age']])"
   ]
  },
  {
   "cell_type": "code",
   "execution_count": 66,
   "id": "14e5072107852d4f",
   "metadata": {
    "ExecuteTime": {
     "end_time": "2025-06-06T01:14:41.103151Z",
     "start_time": "2025-06-06T01:14:40.350788Z"
    },
    "collapsed": false
   },
   "outputs": [],
   "source": [
    "vectorizer = TfidfVectorizer()\n",
    "X_text = vectorizer.fit_transform(df['clean_note'])"
   ]
  },
  {
   "cell_type": "code",
   "execution_count": 67,
   "id": "509eadc5dc9b403e",
   "metadata": {
    "ExecuteTime": {
     "end_time": "2025-06-06T01:14:41.104477Z",
     "start_time": "2025-06-06T01:14:40.371991Z"
    },
    "collapsed": false
   },
   "outputs": [],
   "source": [
    "X_tabular = df[['Age_scaled', 'Sex']].values\n",
    "X = hstack([X_text, X_tabular])\n",
    "y = df['Treatment']"
   ]
  },
  {
   "cell_type": "markdown",
   "source": [
    "## Modelamiento MultinomialNB"
   ],
   "metadata": {
    "collapsed": false
   },
   "id": "5c58348c406a63a0"
  },
  {
   "cell_type": "code",
   "execution_count": 68,
   "id": "10e450ce0ae02835",
   "metadata": {
    "ExecuteTime": {
     "end_time": "2025-06-06T01:14:41.116080Z",
     "start_time": "2025-06-06T01:14:40.385150Z"
    },
    "collapsed": false
   },
   "outputs": [],
   "source": [
    "X_train, X_test, y_train, y_test = train_test_split(X, y, test_size=0.2, random_state=42)\n",
    "clf = MultinomialNB()\n",
    "clf.fit(X_train, y_train)\n",
    "y_pred = clf.predict(X_test)"
   ]
  },
  {
   "cell_type": "code",
   "execution_count": 69,
   "id": "77cef4161dc3d863",
   "metadata": {
    "ExecuteTime": {
     "end_time": "2025-06-06T01:14:41.116686Z",
     "start_time": "2025-06-06T01:14:40.422055Z"
    },
    "collapsed": false
   },
   "outputs": [
    {
     "name": "stdout",
     "output_type": "stream",
     "text": [
      "Reporte de Clasificación:\n",
      "                   precision    recall  f1-score   support\n",
      "\n",
      "     chemotherapy       0.30      0.79      0.44       236\n",
      " close monitoring       0.30      0.45      0.36       213\n",
      "radiation therapy       0.31      0.13      0.19       385\n",
      "          surgery       0.34      0.10      0.16       378\n",
      "\n",
      "         accuracy                           0.31      1212\n",
      "        macro avg       0.31      0.37      0.29      1212\n",
      "     weighted avg       0.32      0.31      0.26      1212\n"
     ]
    }
   ],
   "source": [
    "print(\"Reporte de Clasificación:\")\n",
    "print(classification_report(y_test, y_pred))"
   ]
  },
  {
   "cell_type": "markdown",
   "source": [
    "## Modelamiento RandomForest"
   ],
   "metadata": {
    "collapsed": false
   },
   "id": "dd75f943f0736139"
  },
  {
   "cell_type": "code",
   "execution_count": 72,
   "id": "6bfe22dab9785e2d",
   "metadata": {
    "ExecuteTime": {
     "end_time": "2025-06-06T01:15:14.691963Z",
     "start_time": "2025-06-06T01:15:13.695084Z"
    },
    "collapsed": false
   },
   "outputs": [
    {
     "name": "stdout",
     "output_type": "stream",
     "text": [
      "Reporte de Clasificación:\n",
      "                   precision    recall  f1-score   support\n",
      "\n",
      "     chemotherapy       0.27      0.28      0.27       235\n",
      " close monitoring       0.28      0.27      0.27       228\n",
      "radiation therapy       0.31      0.31      0.31       379\n",
      "          surgery       0.31      0.31      0.31       370\n",
      "\n",
      "         accuracy                           0.29      1212\n",
      "        macro avg       0.29      0.29      0.29      1212\n",
      "     weighted avg       0.29      0.29      0.29      1212\n"
     ]
    }
   ],
   "source": [
    "def clean_text(text):\n",
    "    text = text.lower()\n",
    "    text = re.sub(r'[^a-z\\s]', '', text)  # elimina signos y números\n",
    "    tokens = text.split()\n",
    "    tokens = [t for t in tokens if t not in ENGLISH_STOP_WORDS]\n",
    "    return ' '.join(tokens)\n",
    "\n",
    "df['clean_note'] = df['Clinical Note'].apply(clean_text)\n",
    "\n",
    "df['Sex'] = df['Sex'].map({'F': 0, 'M': 1})\n",
    "scaler = MinMaxScaler()\n",
    "df['Age_scaled'] = scaler.fit_transform(df[['Age']])\n",
    "\n",
    "vectorizer = TfidfVectorizer(ngram_range=(1, 2), max_features=5000)\n",
    "X_text = vectorizer.fit_transform(df['clean_note'])\n",
    "\n",
    "X_tabular = df[['Age_scaled', 'Sex']].values\n",
    "X = hstack([X_text, X_tabular])\n",
    "\n",
    "y = df['Treatment']\n",
    "\n",
    "X_train, X_test, y_train, y_test = train_test_split(X, y, test_size=0.2, random_state=42, stratify=y)\n",
    "\n",
    "clf = RandomForestClassifier(random_state=42, n_jobs=-1)\n",
    "clf.fit(X_train, y_train)\n",
    "\n",
    "y_pred = clf.predict(X_test)\n",
    "\n",
    "print(\"Reporte de Clasificación:\")\n",
    "print(classification_report(y_test, y_pred))\n"
   ]
  },
  {
   "cell_type": "code",
   "execution_count": 73,
   "id": "c38933945240515b",
   "metadata": {
    "ExecuteTime": {
     "end_time": "2025-06-06T01:15:19.500994Z",
     "start_time": "2025-06-06T01:15:19.395471Z"
    },
    "collapsed": false
   },
   "outputs": [
    {
     "data": {
      "text/plain": [
       "['/Users/valecaad/Documents/RetoConocimientoTecnico/models/scaler.pkl']"
      ]
     },
     "execution_count": 73,
     "metadata": {},
     "output_type": "execute_result"
    }
   ],
   "source": [
    "\n",
    "# Usar directorio actual\n",
    "output_path = Path.cwd() / 'models' / 'modelo_random_forest_BrainTumorTreatment.pkl'\n",
    "output_path.parent.mkdir(parents=True, exist_ok=True)  # crea la carpeta si no existe\n",
    "\n",
    "joblib.dump(clf, output_path)\n",
    "joblib.dump(vectorizer, Path.cwd() / 'models' / 'vectorizer.pkl')\n",
    "joblib.dump(scaler,Path.cwd() / 'models' / 'scaler.pkl')"
   ]
  },
  {
   "cell_type": "markdown",
   "id": "b47b738bf0ca9f13",
   "metadata": {
    "collapsed": false
   },
   "source": [
    "## Conclusiones"
   ]
  },
  {
   "cell_type": "markdown",
   "id": "2b7a03d37fa05a23",
   "metadata": {
    "collapsed": false
   },
   "source": [
    "Al analizar el dataset se puede notar que los datos parecen estar equilibrados entre categorias, se puede decir que es data dummy, es necesario poblar la data con otras variables ademas del sexo y la edad que permitan diferenciar los tratamientos o incluso encontrar patrones en la data.\n",
    "Se pueden aplicar otras tecnicas para agrupar los comentarios de los doctores, podriamos completar el dataset con variables como diagnostico, sintomas, duracion entre otras, se pueden usar otros modelos, como XGBoost que no logre utilizar por el computador donde lo estaba ejecutando, incluso si se tiene acceso a GPU permite robustecer aun mas los modelos. "
   ]
  }
 ],
 "metadata": {
  "kernelspec": {
   "display_name": "Python 3 (ipykernel)",
   "language": "python",
   "name": "python3"
  },
  "language_info": {
   "codemirror_mode": {
    "name": "ipython",
    "version": 3
   },
   "file_extension": ".py",
   "mimetype": "text/x-python",
   "name": "python",
   "nbconvert_exporter": "python",
   "pygments_lexer": "ipython3",
   "version": "3.11.5"
  }
 },
 "nbformat": 4,
 "nbformat_minor": 5
}
